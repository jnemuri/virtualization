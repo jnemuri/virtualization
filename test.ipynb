{
 "cells": [
  {
   "cell_type": "code",
   "execution_count": 2,
   "id": "2f47780a",
   "metadata": {},
   "outputs": [
    {
     "name": "stdout",
     "output_type": "stream",
     "text": [
      "Hello, World!\n"
     ]
    }
   ],
   "source": [
    "# Sample code to test\n",
    "def greet(name):\n",
    "    return f\"Hello, {name}!\"\n",
    "\n",
    "# Test the function\n",
    "print(greet(\"World\"))"
   ]
  },
  {
   "cell_type": "code",
   "execution_count": null,
   "id": "deb0127c",
   "metadata": {},
   "outputs": [],
   "source": [
    "# Install the required package\n",
    "%pip install azure-storage-blob\n"
   ]
  },
  {
   "cell_type": "code",
   "execution_count": null,
   "id": "9be5943b",
   "metadata": {},
   "outputs": [
    {
     "name": "stdout",
     "output_type": "stream",
     "text": [
      "Error: Incorrect padding\n"
     ]
    }
   ],
   "source": [
    "\n",
    "# Import the BlobServiceClient from azure.storage.blob\n",
    "from azure.storage.blob import BlobServiceClient\n",
    "\n",
    "connection_string = \"DefaultEndpointsProtocol=https;AccountName=sagtappsadfusrstrgv2dev;AccountKey=YOUR_ACCOUNT_KEY;EndpointSuffix=core.windows.net\"\n",
    "\n",
    "# Create a BlobServiceClient\n",
    "blob_service_client = BlobServiceClient.from_connection_string(connection_string)\n",
    "\n",
    "try:\n",
    "    # Verify the connection by listing containers\n",
    "    containers = blob_service_client.list_containers()\n",
    "    for container in containers:\n",
    "        print(container['sagtappsadfusrstrgv2dev'])  # Corrected key to access container name\n",
    "except Exception as e:\n",
    "    print(f\"Error: {e}\")"
   ]
  },
  {
   "cell_type": "code",
   "execution_count": null,
   "id": "a8be7d01",
   "metadata": {},
   "outputs": [],
   "source": []
  }
 ],
 "metadata": {
  "kernelspec": {
   "display_name": "venv",
   "language": "python",
   "name": "python3"
  },
  "language_info": {
   "codemirror_mode": {
    "name": "ipython",
    "version": 3
   },
   "file_extension": ".py",
   "mimetype": "text/x-python",
   "name": "python",
   "nbconvert_exporter": "python",
   "pygments_lexer": "ipython3",
   "version": "3.13.3"
  }
 },
 "nbformat": 4,
 "nbformat_minor": 5
}
